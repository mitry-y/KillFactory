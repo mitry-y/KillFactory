{
 "cells": [
  {
   "cell_type": "code",
   "execution_count": null,
   "metadata": {},
   "outputs": [],
   "source": [
    "import numpy as np\n",
    "def game_core(number):\n",
    "    array=[]                                # определяем массив \n",
    "    count = 0                               # счетчик попыток\n",
    "    for i in range (1,101):                 # заполдняем массив числами от 1 до 100\n",
    "     array.append(i) \n",
    "    index = 49                              # определяем индекс числа в массиве для первой попытки\n",
    "    predict = np.random.randint(1,101)      # определяем искомое число\n",
    "    while array[index] != predict:          # проверяем соответствие числа с заданым индексом искомому\n",
    "          count+=1                          # считаем попытку\n",
    "          if  array[index] > predict:       # если число больше заданного то \n",
    "              array=array[:index]           # производим срез до текущего индекса и\n",
    "              index=len(array)//2           # определяем индекс числа находящегося в его средине \n",
    "          else :                            # если число меньше заданного то\n",
    "              array=array[index:]           # производим срез после текущего индекса и\n",
    "              index=len(array)//2           # определяем индекс числа находящегося в его средине\n",
    "                    \n",
    "    return(count)                           # возвращаем счетчик попыток\n",
    "\n",
    "def score_game(game_core):\n",
    "    '''Запускаем игру 1000 раз, чтобы узнать, как быстро игра угадывает число'''\n",
    "    count_ls = []\n",
    "    np.random.seed(1)  # фиксируем RANDOM SEED, чтобы ваш эксперимент был воспроизводим!\n",
    "    random_array = np.random.randint(1,101, size=(1000))\n",
    "    for number in random_array:\n",
    "        count_ls.append(game_core(number))\n",
    "    score = int(np.mean(count_ls))\n",
    "    print(f\"Ваш алгоритм угадывает число в среднем за {score} попыток\")\n",
    "    return(score)\n",
    "\n",
    "score_game(game_core)"
   ]
  }
 ],
 "metadata": {
  "kernelspec": {
   "display_name": "Python 3",
   "language": "python",
   "name": "python3"
  },
  "language_info": {
   "codemirror_mode": {
    "name": "ipython",
    "version": 3
   },
   "file_extension": ".py",
   "mimetype": "text/x-python",
   "name": "python",
   "nbconvert_exporter": "python",
   "pygments_lexer": "ipython3",
   "version": "3.8.5"
  }
 },
 "nbformat": 4,
 "nbformat_minor": 4
}
